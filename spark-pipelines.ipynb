{
 "cells": [
  {
   "cell_type": "markdown",
   "id": "2f3d9a22-e640-477a-bf5c-b7e5f0b90ce3",
   "metadata": {},
   "source": [
    "## Spark Data Prepation & SageMaker Pipeline Integration\n",
    "\n",
    "In this example we take a look at how you can connect an Amazon EMR Cluster to SageMaker Studio using a Service Catalog Template. Optionally if you already have an existing EMR Cluster with proper networking access enabled you can plug in that value into the cluster-id delimiter. For this specific example we take an NLP Text Classification use-case and use BERT with the SST2 public dataset for binary classification of text. We first explore how you can work with data via the Spark EMR connection with Studio, then we take this dataset and implement it into an ML Workflow using SageMaker Pipelines."
   ]
  },
  {
   "cell_type": "markdown",
   "id": "82f4b301-8443-4868-9988-10a04f98a3af",
   "metadata": {},
   "source": [
    "### Setup\n",
    "\n",
    "We first connect to our EMR cluster, for our notebook setting we have the following specs:\n",
    "\n",
    "- Studio Kernel: SparkMagic PySpark\n",
    "- Instance Type: ml.t3.medium\n",
    "\n",
    "For our EMR Cluster you can provision the necessary instance type and count using the Service Catalog template, launching of the cluster will take around ~10 minutes."
   ]
  },
  {
   "cell_type": "code",
   "execution_count": null,
   "id": "068fd91e-ebb9-4dab-b6ba-dae78076b259",
   "metadata": {},
   "outputs": [],
   "source": [
    "# substitute cluster-ID with your cluster-ID\n",
    "%load_ext sagemaker_studio_analytics_extension.magics\n",
    "%sm_analytics emr connect --verify-certificate False --cluster-id j-JMOFYJLFSXA8 --auth-type None --language python "
   ]
  },
  {
   "cell_type": "markdown",
   "id": "84ecd698-b7f0-41c2-b800-591b7ad434e5",
   "metadata": {},
   "source": [
    "### Spark Preprocessing\n",
    "\n",
    "Let's run some sample Spark commands to understand our dataset better. You can upload the train.csv to an S3 Bucket of your choice and replace the bucket with your bucket name/path."
   ]
  },
  {
   "cell_type": "code",
   "execution_count": null,
   "id": "007eae36-e302-4f0a-b183-10705d2f4784",
   "metadata": {
    "tags": []
   },
   "outputs": [],
   "source": [
    "import os\n",
    "import string\n",
    "import json\n",
    "from io import BytesIO\n",
    "import boto3\n",
    "import numpy as np\n",
    "from pyspark.sql import Row\n",
    "from PIL import Image, ImageDraw\n",
    "import matplotlib.pyplot as plt\n",
    "from pyspark.sql import functions as F\n",
    "from pyspark.sql.types import StringType\n",
    "from matplotlib.ticker import NullLocator\n",
    "from pyspark.sql.functions import monotonically_increasing_id"
   ]
  },
  {
   "cell_type": "code",
   "execution_count": null,
   "id": "24c856c2-cbea-4dd2-bbc4-28303624e127",
   "metadata": {
    "tags": []
   },
   "outputs": [],
   "source": [
    "hadoop_conf = spark.sparkContext._jsc.hadoopConfiguration()"
   ]
  },
  {
   "cell_type": "code",
   "execution_count": null,
   "id": "5e8489ee-010e-43d6-8ded-6df4cad9f5d7",
   "metadata": {
    "tags": []
   },
   "outputs": [],
   "source": [
    "hadoop_conf.set(\"fs.s3a.impl\", \"org.apache.hadoop.fs.s3a.S3AFileSystem\")\n",
    "hadoop_conf.set(\"fs.s3a.path.style.access\", \"true\")\n",
    "hadoop_conf.set(\"spark.hadoop.fs.s3a.committer.name\", \"directory\")"
   ]
  },
  {
   "cell_type": "code",
   "execution_count": null,
   "id": "484f51e9-bc72-4c1f-a8f3-54110f570f21",
   "metadata": {
    "tags": []
   },
   "outputs": [],
   "source": [
    "df = spark.read.format(\"csv\").load(\n",
    "    \"s3://bert-training-set/train.csv\"\n",
    ")\n",
    "df.show()"
   ]
  },
  {
   "cell_type": "code",
   "execution_count": null,
   "id": "badca5ce-b6ed-41d1-ab89-1bc0c049b030",
   "metadata": {
    "tags": []
   },
   "outputs": [],
   "source": [
    "df.count()"
   ]
  },
  {
   "cell_type": "code",
   "execution_count": null,
   "id": "3e5e994b-a21f-4703-94fe-35228b6f4d3a",
   "metadata": {
    "tags": []
   },
   "outputs": [],
   "source": [
    "df.columns"
   ]
  },
  {
   "cell_type": "code",
   "execution_count": null,
   "id": "dbeba3e8-efa9-48a4-a487-4780696ae61d",
   "metadata": {
    "tags": []
   },
   "outputs": [],
   "source": [
    "# let's see distribution of 0 and 1 values in our dataset\n",
    "label_counts = df.groupBy(\"_c0\").count()\n",
    "label_counts.show()"
   ]
  },
  {
   "cell_type": "markdown",
   "id": "1f937a45-8299-46e3-871e-2048b0d9bb2c",
   "metadata": {},
   "source": [
    "### SageMaker Pipelines Setup\n",
    "\n",
    "This notebook creates and executes a pipeline with three Notebook Job steps and four notebooks in its workflow:\n",
    "\n",
    "- <b>Preprocess Step</b>: Pulls down the NLP Dataset and conducts preprocessing.\n",
    "- <b>Train Step</b>: Conducts Training  with a Transformers BERT Model.\n",
    "    - Additional Dependencies: Notebook that prepares a test dataset for sample inference with Trained Model.\n",
    "- <b>Batch Inference and Model Monitor Step</b>: Conducts Batch Inference and also sets up Model Monitor for Data Quality to generate a Baseline.\n",
    "\n",
    "![workflow](workflow.png)"
   ]
  },
  {
   "cell_type": "code",
   "execution_count": null,
   "id": "af8ccac4-2190-498b-b884-ba81caf3cd01",
   "metadata": {
    "tags": []
   },
   "outputs": [],
   "source": [
    "%%bash\n",
    "pip install -U sagemaker"
   ]
  },
  {
   "cell_type": "code",
   "execution_count": null,
   "id": "110e6925-fee2-46d3-8693-bcff9bca0e22",
   "metadata": {
    "tags": []
   },
   "outputs": [],
   "source": [
    "%%local\n",
    "import sagemaker\n",
    "from sagemaker import get_execution_role\n",
    "from sagemaker.s3 import S3Downloader\n",
    "from sagemaker.s3_utils import s3_path_join\n",
    "from sagemaker.utils import name_from_base\n",
    "from sagemaker.workflow import ParameterString\n",
    "from sagemaker.workflow.notebook_job_step import NotebookJobStep\n",
    "from sagemaker.workflow.parameters import ParameterInteger, ParameterBoolean, ParameterString\n",
    "from sagemaker.workflow.pipeline import Pipeline\n",
    "from sagemaker import session\n",
    "\n",
    "sagemaker_session = sagemaker.Session()\n",
    "default_bucket = sagemaker_session.default_bucket()\n",
    "subfolder_name = \"notebook-step-artifacts-pipelines/\"\n",
    "image_uri = \"542918446943.dkr.ecr.us-west-2.amazonaws.com/sagemaker-distribution-prod:0-cpu\"\n",
    "kernel_name = \"python3\"\n",
    "role = sagemaker.get_execution_role()\n",
    "notebook_artifacts = f\"s3://{default_bucket}/{subfolder_name}\"\n",
    "print(notebook_artifacts)"
   ]
  },
  {
   "cell_type": "code",
   "execution_count": null,
   "id": "c510f1d1-09a1-432c-8aa4-0cf99ee117f0",
   "metadata": {},
   "outputs": [],
   "source": [
    "%%local\n",
    "pipeline_name = \"nb-job-steps-pipelines\"\n",
    "display_name = \"MyNotebookSteps\"\n",
    "preprocess_notebook = \"preprocess.ipynb\"\n",
    "preprocess_job_name = \"nb-preprocess\"\n",
    "preprocess_description = \"This step downloads an NLP dataset and creates a CSV file out of it\"\n",
    "preprocess_step_name = \"preprocess-bert\"\n",
    "\n",
    "# notebook job parameters\n",
    "nb_job_params = {\"default_s3_bucket\": notebook_artifacts}\n",
    "\n",
    "preprocess_nb_step = NotebookJobStep(\n",
    "    name=preprocess_step_name,\n",
    "    description=preprocess_description,\n",
    "    notebook_job_name=preprocess_job_name,\n",
    "    image_uri=image_uri,\n",
    "    kernel_name=kernel_name,\n",
    "    display_name=display_name,\n",
    "    role=role,\n",
    "    input_notebook=preprocess_notebook,\n",
    "    instance_type=\"ml.m5.4xlarge\",\n",
    "    parameters=nb_job_params,\n",
    ")\n",
    "# notebook two configuration\n",
    "training_notebook = \"training.ipynb\"\n",
    "test_data_prep_notebook = \"prepare-test-set.ipynb\"\n",
    "training_job_name = \"nb-training\"\n",
    "training_description = \"This step takes the prepared S3 dataset and runs fine-tuning\"\n",
    "training_step_name = \"training-bert\"\n",
    "\n",
    "train_nb_step = NotebookJobStep(\n",
    "    name=training_step_name,\n",
    "    description=training_description,\n",
    "    notebook_job_name=training_job_name,\n",
    "    input_notebook=training_notebook,\n",
    "    additional_dependencies=[test_data_prep_notebook],\n",
    "    image_uri=image_uri,\n",
    "    kernel_name=kernel_name,\n",
    "    display_name=display_name,\n",
    "    instance_type=\"ml.m5.12xlarge\",\n",
    "    role=role,\n",
    "    parameters=nb_job_params,\n",
    ")\n",
    "train_nb_step.add_depends_on([preprocess_nb_step])\n",
    "\n",
    "\n",
    "# notebook three configuration\n",
    "batch_monitor_notebook = \"transform-monitor.ipynb\"\n",
    "batch_monitor_job_name = \"nb-batch-monitor\"\n",
    "batch_monitor_description = \"This step runs Batch Inference and Training\"\n",
    "batch_monitor_step_name = \"batch-monitor\"\n",
    "\n",
    "batch_monitor_step = NotebookJobStep(\n",
    "    name=batch_monitor_step_name,\n",
    "    description=batch_monitor_description,\n",
    "    notebook_job_name=batch_monitor_job_name,\n",
    "    input_notebook=batch_monitor_notebook,\n",
    "    image_uri=image_uri,\n",
    "    kernel_name=kernel_name,\n",
    "    display_name=display_name,\n",
    "    instance_type=\"ml.m5.12xlarge\",\n",
    "    role=role,\n",
    "    parameters=nb_job_params,\n",
    ")\n",
    "batch_monitor_step.add_depends_on([train_nb_step])"
   ]
  },
  {
   "cell_type": "code",
   "execution_count": null,
   "id": "e9b5616b-79ff-4bdb-96ee-09718dda555b",
   "metadata": {},
   "outputs": [],
   "source": [
    "%%local\n",
    "# create pipeline\n",
    "pipeline = Pipeline(\n",
    "    name=pipeline_name,\n",
    "    steps=[preprocess_nb_step, train_nb_step, batch_monitor_step],\n",
    ")"
   ]
  },
  {
   "cell_type": "markdown",
   "id": "b80b1594-95ef-458b-adf6-1fa499656a5f",
   "metadata": {},
   "source": [
    "#### Pipeline Execution\n",
    "This pipeline will take approximately 45 minutes to execute."
   ]
  },
  {
   "cell_type": "code",
   "execution_count": null,
   "id": "ee31df87-0aec-4ade-8066-3698d39829e1",
   "metadata": {},
   "outputs": [],
   "source": [
    "%%local\n",
    "pipeline.create(session.get_execution_role())\n",
    "execution = pipeline.start(parameters={})\n",
    "execution.wait(delay=30, max_attempts=60)\n",
    "execution_steps = execution.list_steps()\n",
    "print(execution_steps)"
   ]
  },
  {
   "cell_type": "markdown",
   "id": "b1bcd511-574c-4a2a-b01d-271d31f8e4ef",
   "metadata": {},
   "source": [
    "#### Output Notebook Parsing"
   ]
  },
  {
   "cell_type": "code",
   "execution_count": null,
   "id": "a64b25d7-0b30-4145-812d-4835df2d00d9",
   "metadata": {},
   "outputs": [],
   "source": [
    "%%local\n",
    "\n",
    "# download the output notebook\n",
    "from sagemaker.s3_utils import s3_path_join\n",
    "from sagemaker.utils import _tmpdir\n",
    "from sagemaker.s3 import S3Downloader\n",
    "import tarfile\n",
    "import os\n",
    "\n",
    "\n",
    "# get job details\n",
    "def _get_training_job_details(notebook_job_step):\n",
    "    training_job_arn = notebook_job_step[\"Metadata\"][\"TrainingJob\"][\"Arn\"]\n",
    "\n",
    "    return sagemaker_session.sagemaker_client.describe_training_job(\n",
    "        TrainingJobName=training_job_arn.split(\"/\")[1]\n",
    "    )\n",
    "\n",
    "\n",
    "def _download_notebook(output_s3_uri, output_notebook_name, kms_key=None):\n",
    "    download_folder = \"outputs\"\n",
    "\n",
    "    if not os.path.exists(download_folder):\n",
    "        os.makedirs(download_folder)\n",
    "\n",
    "    with _tmpdir() as temp_output_folder:\n",
    "        S3Downloader.download(\n",
    "            output_s3_uri,\n",
    "            temp_output_folder,\n",
    "            sagemaker_session=sagemaker_session,\n",
    "            kms_key=kms_key,\n",
    "        )\n",
    "\n",
    "        with tarfile.open(os.path.join(temp_output_folder, \"output.tar.gz\"), \"r:gz\") as tar:\n",
    "            tar.extract(output_notebook_name, download_folder)\n",
    "            print(f\"Downloaded to {download_folder}/{output_notebook_name}\")\n",
    "\n",
    "\n",
    "# download the output notebook job\n",
    "job_description = _get_training_job_details(execution_steps[0])\n",
    "\n",
    "output_s3_uri = s3_path_join(\n",
    "    job_description[\"OutputDataConfig\"][\"S3OutputPath\"],\n",
    "    job_description[\"TrainingJobName\"],\n",
    "    \"output\",\n",
    "    \"output.tar.gz\",\n",
    ")\n",
    "output_notebook_name = job_description[\"Environment\"][\"SM_OUTPUT_NOTEBOOK_NAME\"]\n",
    "\n",
    "print(f\"  - Output S3 Location: {output_s3_uri}\")\n",
    "print(f\"  - Output Notebook Name: {output_notebook_name}\")\n",
    "\n",
    "_download_notebook(output_s3_uri, output_notebook_name)"
   ]
  },
  {
   "cell_type": "markdown",
   "id": "a5823c6a-3a8d-4c07-b901-ddebdaef7a2e",
   "metadata": {},
   "source": [
    "### Cleanup"
   ]
  },
  {
   "cell_type": "code",
   "execution_count": null,
   "id": "7451dd86-b501-4fc4-bf21-4fe1342e7700",
   "metadata": {},
   "outputs": [],
   "source": [
    "# Delete the Pipeline\n",
    "pipeline.delete()"
   ]
  }
 ],
 "metadata": {
  "availableInstances": [
   {
    "_defaultOrder": 0,
    "_isFastLaunch": true,
    "category": "General purpose",
    "gpuNum": 0,
    "hideHardwareSpecs": false,
    "memoryGiB": 4,
    "name": "ml.t3.medium",
    "vcpuNum": 2
   },
   {
    "_defaultOrder": 1,
    "_isFastLaunch": false,
    "category": "General purpose",
    "gpuNum": 0,
    "hideHardwareSpecs": false,
    "memoryGiB": 8,
    "name": "ml.t3.large",
    "vcpuNum": 2
   },
   {
    "_defaultOrder": 2,
    "_isFastLaunch": false,
    "category": "General purpose",
    "gpuNum": 0,
    "hideHardwareSpecs": false,
    "memoryGiB": 16,
    "name": "ml.t3.xlarge",
    "vcpuNum": 4
   },
   {
    "_defaultOrder": 3,
    "_isFastLaunch": false,
    "category": "General purpose",
    "gpuNum": 0,
    "hideHardwareSpecs": false,
    "memoryGiB": 32,
    "name": "ml.t3.2xlarge",
    "vcpuNum": 8
   },
   {
    "_defaultOrder": 4,
    "_isFastLaunch": true,
    "category": "General purpose",
    "gpuNum": 0,
    "hideHardwareSpecs": false,
    "memoryGiB": 8,
    "name": "ml.m5.large",
    "vcpuNum": 2
   },
   {
    "_defaultOrder": 5,
    "_isFastLaunch": false,
    "category": "General purpose",
    "gpuNum": 0,
    "hideHardwareSpecs": false,
    "memoryGiB": 16,
    "name": "ml.m5.xlarge",
    "vcpuNum": 4
   },
   {
    "_defaultOrder": 6,
    "_isFastLaunch": false,
    "category": "General purpose",
    "gpuNum": 0,
    "hideHardwareSpecs": false,
    "memoryGiB": 32,
    "name": "ml.m5.2xlarge",
    "vcpuNum": 8
   },
   {
    "_defaultOrder": 7,
    "_isFastLaunch": false,
    "category": "General purpose",
    "gpuNum": 0,
    "hideHardwareSpecs": false,
    "memoryGiB": 64,
    "name": "ml.m5.4xlarge",
    "vcpuNum": 16
   },
   {
    "_defaultOrder": 8,
    "_isFastLaunch": false,
    "category": "General purpose",
    "gpuNum": 0,
    "hideHardwareSpecs": false,
    "memoryGiB": 128,
    "name": "ml.m5.8xlarge",
    "vcpuNum": 32
   },
   {
    "_defaultOrder": 9,
    "_isFastLaunch": false,
    "category": "General purpose",
    "gpuNum": 0,
    "hideHardwareSpecs": false,
    "memoryGiB": 192,
    "name": "ml.m5.12xlarge",
    "vcpuNum": 48
   },
   {
    "_defaultOrder": 10,
    "_isFastLaunch": false,
    "category": "General purpose",
    "gpuNum": 0,
    "hideHardwareSpecs": false,
    "memoryGiB": 256,
    "name": "ml.m5.16xlarge",
    "vcpuNum": 64
   },
   {
    "_defaultOrder": 11,
    "_isFastLaunch": false,
    "category": "General purpose",
    "gpuNum": 0,
    "hideHardwareSpecs": false,
    "memoryGiB": 384,
    "name": "ml.m5.24xlarge",
    "vcpuNum": 96
   },
   {
    "_defaultOrder": 12,
    "_isFastLaunch": false,
    "category": "General purpose",
    "gpuNum": 0,
    "hideHardwareSpecs": false,
    "memoryGiB": 8,
    "name": "ml.m5d.large",
    "vcpuNum": 2
   },
   {
    "_defaultOrder": 13,
    "_isFastLaunch": false,
    "category": "General purpose",
    "gpuNum": 0,
    "hideHardwareSpecs": false,
    "memoryGiB": 16,
    "name": "ml.m5d.xlarge",
    "vcpuNum": 4
   },
   {
    "_defaultOrder": 14,
    "_isFastLaunch": false,
    "category": "General purpose",
    "gpuNum": 0,
    "hideHardwareSpecs": false,
    "memoryGiB": 32,
    "name": "ml.m5d.2xlarge",
    "vcpuNum": 8
   },
   {
    "_defaultOrder": 15,
    "_isFastLaunch": false,
    "category": "General purpose",
    "gpuNum": 0,
    "hideHardwareSpecs": false,
    "memoryGiB": 64,
    "name": "ml.m5d.4xlarge",
    "vcpuNum": 16
   },
   {
    "_defaultOrder": 16,
    "_isFastLaunch": false,
    "category": "General purpose",
    "gpuNum": 0,
    "hideHardwareSpecs": false,
    "memoryGiB": 128,
    "name": "ml.m5d.8xlarge",
    "vcpuNum": 32
   },
   {
    "_defaultOrder": 17,
    "_isFastLaunch": false,
    "category": "General purpose",
    "gpuNum": 0,
    "hideHardwareSpecs": false,
    "memoryGiB": 192,
    "name": "ml.m5d.12xlarge",
    "vcpuNum": 48
   },
   {
    "_defaultOrder": 18,
    "_isFastLaunch": false,
    "category": "General purpose",
    "gpuNum": 0,
    "hideHardwareSpecs": false,
    "memoryGiB": 256,
    "name": "ml.m5d.16xlarge",
    "vcpuNum": 64
   },
   {
    "_defaultOrder": 19,
    "_isFastLaunch": false,
    "category": "General purpose",
    "gpuNum": 0,
    "hideHardwareSpecs": false,
    "memoryGiB": 384,
    "name": "ml.m5d.24xlarge",
    "vcpuNum": 96
   },
   {
    "_defaultOrder": 20,
    "_isFastLaunch": false,
    "category": "General purpose",
    "gpuNum": 0,
    "hideHardwareSpecs": true,
    "memoryGiB": 0,
    "name": "ml.geospatial.interactive",
    "supportedImageNames": [
     "sagemaker-geospatial-v1-0"
    ],
    "vcpuNum": 0
   },
   {
    "_defaultOrder": 21,
    "_isFastLaunch": true,
    "category": "Compute optimized",
    "gpuNum": 0,
    "hideHardwareSpecs": false,
    "memoryGiB": 4,
    "name": "ml.c5.large",
    "vcpuNum": 2
   },
   {
    "_defaultOrder": 22,
    "_isFastLaunch": false,
    "category": "Compute optimized",
    "gpuNum": 0,
    "hideHardwareSpecs": false,
    "memoryGiB": 8,
    "name": "ml.c5.xlarge",
    "vcpuNum": 4
   },
   {
    "_defaultOrder": 23,
    "_isFastLaunch": false,
    "category": "Compute optimized",
    "gpuNum": 0,
    "hideHardwareSpecs": false,
    "memoryGiB": 16,
    "name": "ml.c5.2xlarge",
    "vcpuNum": 8
   },
   {
    "_defaultOrder": 24,
    "_isFastLaunch": false,
    "category": "Compute optimized",
    "gpuNum": 0,
    "hideHardwareSpecs": false,
    "memoryGiB": 32,
    "name": "ml.c5.4xlarge",
    "vcpuNum": 16
   },
   {
    "_defaultOrder": 25,
    "_isFastLaunch": false,
    "category": "Compute optimized",
    "gpuNum": 0,
    "hideHardwareSpecs": false,
    "memoryGiB": 72,
    "name": "ml.c5.9xlarge",
    "vcpuNum": 36
   },
   {
    "_defaultOrder": 26,
    "_isFastLaunch": false,
    "category": "Compute optimized",
    "gpuNum": 0,
    "hideHardwareSpecs": false,
    "memoryGiB": 96,
    "name": "ml.c5.12xlarge",
    "vcpuNum": 48
   },
   {
    "_defaultOrder": 27,
    "_isFastLaunch": false,
    "category": "Compute optimized",
    "gpuNum": 0,
    "hideHardwareSpecs": false,
    "memoryGiB": 144,
    "name": "ml.c5.18xlarge",
    "vcpuNum": 72
   },
   {
    "_defaultOrder": 28,
    "_isFastLaunch": false,
    "category": "Compute optimized",
    "gpuNum": 0,
    "hideHardwareSpecs": false,
    "memoryGiB": 192,
    "name": "ml.c5.24xlarge",
    "vcpuNum": 96
   },
   {
    "_defaultOrder": 29,
    "_isFastLaunch": true,
    "category": "Accelerated computing",
    "gpuNum": 1,
    "hideHardwareSpecs": false,
    "memoryGiB": 16,
    "name": "ml.g4dn.xlarge",
    "vcpuNum": 4
   },
   {
    "_defaultOrder": 30,
    "_isFastLaunch": false,
    "category": "Accelerated computing",
    "gpuNum": 1,
    "hideHardwareSpecs": false,
    "memoryGiB": 32,
    "name": "ml.g4dn.2xlarge",
    "vcpuNum": 8
   },
   {
    "_defaultOrder": 31,
    "_isFastLaunch": false,
    "category": "Accelerated computing",
    "gpuNum": 1,
    "hideHardwareSpecs": false,
    "memoryGiB": 64,
    "name": "ml.g4dn.4xlarge",
    "vcpuNum": 16
   },
   {
    "_defaultOrder": 32,
    "_isFastLaunch": false,
    "category": "Accelerated computing",
    "gpuNum": 1,
    "hideHardwareSpecs": false,
    "memoryGiB": 128,
    "name": "ml.g4dn.8xlarge",
    "vcpuNum": 32
   },
   {
    "_defaultOrder": 33,
    "_isFastLaunch": false,
    "category": "Accelerated computing",
    "gpuNum": 4,
    "hideHardwareSpecs": false,
    "memoryGiB": 192,
    "name": "ml.g4dn.12xlarge",
    "vcpuNum": 48
   },
   {
    "_defaultOrder": 34,
    "_isFastLaunch": false,
    "category": "Accelerated computing",
    "gpuNum": 1,
    "hideHardwareSpecs": false,
    "memoryGiB": 256,
    "name": "ml.g4dn.16xlarge",
    "vcpuNum": 64
   },
   {
    "_defaultOrder": 35,
    "_isFastLaunch": false,
    "category": "Accelerated computing",
    "gpuNum": 1,
    "hideHardwareSpecs": false,
    "memoryGiB": 61,
    "name": "ml.p3.2xlarge",
    "vcpuNum": 8
   },
   {
    "_defaultOrder": 36,
    "_isFastLaunch": false,
    "category": "Accelerated computing",
    "gpuNum": 4,
    "hideHardwareSpecs": false,
    "memoryGiB": 244,
    "name": "ml.p3.8xlarge",
    "vcpuNum": 32
   },
   {
    "_defaultOrder": 37,
    "_isFastLaunch": false,
    "category": "Accelerated computing",
    "gpuNum": 8,
    "hideHardwareSpecs": false,
    "memoryGiB": 488,
    "name": "ml.p3.16xlarge",
    "vcpuNum": 64
   },
   {
    "_defaultOrder": 38,
    "_isFastLaunch": false,
    "category": "Accelerated computing",
    "gpuNum": 8,
    "hideHardwareSpecs": false,
    "memoryGiB": 768,
    "name": "ml.p3dn.24xlarge",
    "vcpuNum": 96
   },
   {
    "_defaultOrder": 39,
    "_isFastLaunch": false,
    "category": "Memory Optimized",
    "gpuNum": 0,
    "hideHardwareSpecs": false,
    "memoryGiB": 16,
    "name": "ml.r5.large",
    "vcpuNum": 2
   },
   {
    "_defaultOrder": 40,
    "_isFastLaunch": false,
    "category": "Memory Optimized",
    "gpuNum": 0,
    "hideHardwareSpecs": false,
    "memoryGiB": 32,
    "name": "ml.r5.xlarge",
    "vcpuNum": 4
   },
   {
    "_defaultOrder": 41,
    "_isFastLaunch": false,
    "category": "Memory Optimized",
    "gpuNum": 0,
    "hideHardwareSpecs": false,
    "memoryGiB": 64,
    "name": "ml.r5.2xlarge",
    "vcpuNum": 8
   },
   {
    "_defaultOrder": 42,
    "_isFastLaunch": false,
    "category": "Memory Optimized",
    "gpuNum": 0,
    "hideHardwareSpecs": false,
    "memoryGiB": 128,
    "name": "ml.r5.4xlarge",
    "vcpuNum": 16
   },
   {
    "_defaultOrder": 43,
    "_isFastLaunch": false,
    "category": "Memory Optimized",
    "gpuNum": 0,
    "hideHardwareSpecs": false,
    "memoryGiB": 256,
    "name": "ml.r5.8xlarge",
    "vcpuNum": 32
   },
   {
    "_defaultOrder": 44,
    "_isFastLaunch": false,
    "category": "Memory Optimized",
    "gpuNum": 0,
    "hideHardwareSpecs": false,
    "memoryGiB": 384,
    "name": "ml.r5.12xlarge",
    "vcpuNum": 48
   },
   {
    "_defaultOrder": 45,
    "_isFastLaunch": false,
    "category": "Memory Optimized",
    "gpuNum": 0,
    "hideHardwareSpecs": false,
    "memoryGiB": 512,
    "name": "ml.r5.16xlarge",
    "vcpuNum": 64
   },
   {
    "_defaultOrder": 46,
    "_isFastLaunch": false,
    "category": "Memory Optimized",
    "gpuNum": 0,
    "hideHardwareSpecs": false,
    "memoryGiB": 768,
    "name": "ml.r5.24xlarge",
    "vcpuNum": 96
   },
   {
    "_defaultOrder": 47,
    "_isFastLaunch": false,
    "category": "Accelerated computing",
    "gpuNum": 1,
    "hideHardwareSpecs": false,
    "memoryGiB": 16,
    "name": "ml.g5.xlarge",
    "vcpuNum": 4
   },
   {
    "_defaultOrder": 48,
    "_isFastLaunch": false,
    "category": "Accelerated computing",
    "gpuNum": 1,
    "hideHardwareSpecs": false,
    "memoryGiB": 32,
    "name": "ml.g5.2xlarge",
    "vcpuNum": 8
   },
   {
    "_defaultOrder": 49,
    "_isFastLaunch": false,
    "category": "Accelerated computing",
    "gpuNum": 1,
    "hideHardwareSpecs": false,
    "memoryGiB": 64,
    "name": "ml.g5.4xlarge",
    "vcpuNum": 16
   },
   {
    "_defaultOrder": 50,
    "_isFastLaunch": false,
    "category": "Accelerated computing",
    "gpuNum": 1,
    "hideHardwareSpecs": false,
    "memoryGiB": 128,
    "name": "ml.g5.8xlarge",
    "vcpuNum": 32
   },
   {
    "_defaultOrder": 51,
    "_isFastLaunch": false,
    "category": "Accelerated computing",
    "gpuNum": 1,
    "hideHardwareSpecs": false,
    "memoryGiB": 256,
    "name": "ml.g5.16xlarge",
    "vcpuNum": 64
   },
   {
    "_defaultOrder": 52,
    "_isFastLaunch": false,
    "category": "Accelerated computing",
    "gpuNum": 4,
    "hideHardwareSpecs": false,
    "memoryGiB": 192,
    "name": "ml.g5.12xlarge",
    "vcpuNum": 48
   },
   {
    "_defaultOrder": 53,
    "_isFastLaunch": false,
    "category": "Accelerated computing",
    "gpuNum": 4,
    "hideHardwareSpecs": false,
    "memoryGiB": 384,
    "name": "ml.g5.24xlarge",
    "vcpuNum": 96
   },
   {
    "_defaultOrder": 54,
    "_isFastLaunch": false,
    "category": "Accelerated computing",
    "gpuNum": 8,
    "hideHardwareSpecs": false,
    "memoryGiB": 768,
    "name": "ml.g5.48xlarge",
    "vcpuNum": 192
   },
   {
    "_defaultOrder": 55,
    "_isFastLaunch": false,
    "category": "Accelerated computing",
    "gpuNum": 8,
    "hideHardwareSpecs": false,
    "memoryGiB": 1152,
    "name": "ml.p4d.24xlarge",
    "vcpuNum": 96
   },
   {
    "_defaultOrder": 56,
    "_isFastLaunch": false,
    "category": "Accelerated computing",
    "gpuNum": 8,
    "hideHardwareSpecs": false,
    "memoryGiB": 1152,
    "name": "ml.p4de.24xlarge",
    "vcpuNum": 96
   },
   {
    "_defaultOrder": 57,
    "_isFastLaunch": false,
    "category": "Accelerated computing",
    "gpuNum": 0,
    "hideHardwareSpecs": false,
    "memoryGiB": 32,
    "name": "ml.trn1.2xlarge",
    "vcpuNum": 8
   },
   {
    "_defaultOrder": 58,
    "_isFastLaunch": false,
    "category": "Accelerated computing",
    "gpuNum": 0,
    "hideHardwareSpecs": false,
    "memoryGiB": 512,
    "name": "ml.trn1.32xlarge",
    "vcpuNum": 128
   },
   {
    "_defaultOrder": 59,
    "_isFastLaunch": false,
    "category": "Accelerated computing",
    "gpuNum": 0,
    "hideHardwareSpecs": false,
    "memoryGiB": 512,
    "name": "ml.trn1n.32xlarge",
    "vcpuNum": 128
   }
  ],
  "instance_type": "ml.c5.large",
  "kernelspec": {
   "display_name": "SparkMagic PySpark (SparkAnalytics 2.0)",
   "language": "python",
   "name": "conda-env-sm_sparkmagic-pysparkkernel__SAGEMAKER_INTERNAL__arn:aws:sagemaker:us-east-2:429704687514:image/sagemaker-sparkanalytics-310-v1"
  },
  "language_info": {
   "codemirror_mode": {
    "name": "python",
    "version": 3
   },
   "file_extension": ".py",
   "mimetype": "text/x-python",
   "name": "pyspark",
   "pygments_lexer": "python3"
  }
 },
 "nbformat": 4,
 "nbformat_minor": 5
}
